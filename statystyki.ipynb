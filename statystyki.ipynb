{
 "cells": [
  {
   "cell_type": "markdown",
   "metadata": {},
   "source": [
    "# Wino"
   ]
  },
  {
   "cell_type": "code",
   "execution_count": 1,
   "metadata": {},
   "outputs": [],
   "source": [
    "from pandas import read_csv\n",
    "from matplotlib.pyplot import subplots\n",
    "from seaborn import kdeplot, histplot\n",
    "from matplotlib.patches import Patch\n",
    "\n",
    "X = read_csv('wino.csv')"
   ]
  },
  {
   "cell_type": "markdown",
   "metadata": {},
   "source": [
    "## Histogramy\n",
    "\n",
    "### Kwasowość\n",
    "\n",
    "Na histogramach  widać, że kwasowość win czerwonych osiąga częściej większe wartosci, z kolei \n",
    "stężenie kwasu cytrynowego, który jak wiadomo wpływa na kwaskowatość, ma rozkład bardziej równomierny,\n",
    "niż win białych, które zawierają go przeciętnie więcej.\n",
    "\n",
    "Na podstawie wykresu można spekulować o **normlaności** rozkładu kwasowości, przynajmniej w przypadku\n",
    "win **białych**.\n",
    "\n",
    "### Cukier\n",
    "\n",
    "Zawartość pozostałego cukru jest podobna, jednak na wykresach widać, że wina białe nierzadko mają go\n",
    "więcej.\n",
    "\n",
    "Wykres sugeruje, że wina czerwone mają zawartość cukru o rozkładzie **normalnym**.\n",
    "\n",
    "### Wolne chlorki\n",
    "\n",
    "Wolne chlorki w obu przypadkach mogą mieć rozkład przypominający rozkład **normalny**, wina czerwone \n",
    "mają ich jednak, przeciętnie, więcej.\n",
    "\n",
    "### Dwutlenek siarki\n",
    "\n",
    "Dwutlenek siarki ma widoczną asymetrię **lewostronną** i widać, że wina białe tych tlenków mają więcej,\n",
    "także w przypadku całkowitego jego stężenia.\n",
    "\n",
    "### Gęstość\n",
    "\n",
    "Gęstości substancji zdają sie mieć rozkład **normalny**, szczególnie w przypadku win czerwonych, które\n",
    "wydają się być także gęstsze.\n",
    "\n",
    "### pH\n",
    "\n",
    "Wartość pH na histogramie wskazuje, że wina czerwone są bardziej zasadowe, w obu przypadkach możemy\n",
    "mieć do czynienia z rozkładem **normalnym**.\n",
    "\n",
    "### Siarczany\n",
    "\n",
    "Na siarczanach widać, że wina czerwone zawierają ich więcej, krzywa gęstości może przypominać krzywą\n",
    "Gaussa rozkładu **normalnego**.\n",
    "\n",
    "### Alkohol\n",
    "\n",
    "Alkohol w obu przypadkach ma podobny rozkład, który nie przypomina rozkłądu normalnego.\n",
    "\n",
    "### Jakość\n",
    "\n",
    "Rozkład jakości zdaje się być podobny w przypadku obu rodzajów win."
   ]
  },
  {
   "cell_type": "code",
   "execution_count": 2,
   "metadata": {},
   "outputs": [],
   "source": [
    "def hist(col, ax, binwidth=None):\n",
    "\n",
    "    ax.set_ylabel('%')\n",
    "    if (binwidth is None):\n",
    "        binwidth = 1 if col == 'jakość' else (X[col].max() - X[col].min())/20\n",
    "\n",
    "    for is_red, group in X.groupby('czerwone'):\n",
    "\n",
    "        histplot(data=group, x=col, ax=ax, binwidth = binwidth, \n",
    "            color = 'red' if is_red else 'lightgreen',\n",
    "            stat=\"density\", edgecolor=\"none\", alpha=0.2\n",
    "        )\n",
    "\n",
    "        kdeplot(data=group, x=col, ax=ax, color='darkred' if is_red else 'green')\n",
    "\n",
    "def hists():\n",
    "\n",
    "    fig, axs = subplots(4,3, figsize=(20, 10), sharey=False)\n",
    "    axs = axs.ravel()\n",
    "\n",
    "    for i, col in enumerate(X.columns):\n",
    "        if (col == 'czerwone'):\n",
    "            continue\n",
    "        hist(col, axs[i])\n",
    "\n",
    "    fig.suptitle('Histogramy zmiennych dotyczących win czerwonych i białych', fontsize=16)\n",
    "    fig.subplots_adjust(wspace=0.4, hspace=0.6)\n",
    "\n",
    "    legend_elements = [Patch(facecolor='red', edgecolor='darkred',\n",
    "                             label='Wina czerwone'),\n",
    "                       Patch(facecolor='lightgreen', edgecolor='green',\n",
    "                             label='Wina białe')]\n",
    "\n",
    "    fig.legend(handles=legend_elements, loc='upper right')\n",
    "\n",
    "hists()"
   ]
  }
 ],
 "metadata": {
  "kernelspec": {
   "display_name": "Python 3",
   "language": "python",
   "name": "python3"
  },
  "language_info": {
   "codemirror_mode": {
    "name": "ipython",
    "version": 3
   },
   "file_extension": ".py",
   "mimetype": "text/x-python",
   "name": "python",
   "nbconvert_exporter": "python",
   "pygments_lexer": "ipython3",
   "version": "3.10.12"
  }
 },
 "nbformat": 4,
 "nbformat_minor": 2
}
